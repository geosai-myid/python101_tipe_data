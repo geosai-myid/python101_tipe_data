{
 "cells": [
  {
   "cell_type": "markdown",
   "id": "a03f1140-aac4-4870-af9b-db33285c8206",
   "metadata": {},
   "source": [
    "---\n",
    "\n",
    "<center><h1> 📍 📍 Tipe Data Pada Pyton 📍 📍 </h1></center>\n",
    "\n",
    "Supplementary code untuk artikel tipe data pada python\n",
    " \n",
    " - Angka\n",
    " - String\n",
    " - List\n",
    " - Tuple\n",
    " - Dictionary\n",
    "\n",
    "***Source:*** https://geosai.my.id/\n",
    "\n",
    "---"
   ]
  },
  {
   "cell_type": "markdown",
   "id": "f5f27768-d19c-4b5d-887c-7d69efcf74bd",
   "metadata": {},
   "source": [
    "## 1. Angka"
   ]
  },
  {
   "cell_type": "code",
   "execution_count": 38,
   "id": "46654fac-f4eb-47c8-8752-9ab78cfeacec",
   "metadata": {},
   "outputs": [
    {
     "name": "stdout",
     "output_type": "stream",
     "text": [
      "Hasil penjumlahan adalah: 30\n",
      "Hasil penjumlahan adalah: 200\n",
      "Tipe data adalah <class 'int'>\n"
     ]
    }
   ],
   "source": [
    "# Tipe data angka\n",
    "my_number = 10\n",
    "my_number2 = 20\n",
    "hasil = my_number + my_number2\n",
    "\n",
    "# Print hasil pada console\n",
    "print(\"Hasil penjumlahan adalah: {}\".format(hasil))\n",
    "\n",
    "# Perkalian 2 bilangan integer\n",
    "hasil_perkalian = my_number * my_number2\n",
    "print(\"Hasil penjumlahan adalah: {}\".format(hasil_perkalian))\n",
    "\n",
    "# Check jenis tipe data menggunakan type\n",
    "print(\"Tipe data adalah {}\".format(type(hasil_perkalian)))"
   ]
  },
  {
   "cell_type": "markdown",
   "id": "18104718-b91a-4463-983b-f3b44d773dc0",
   "metadata": {},
   "source": [
    "**Cara lain untuk membuat tipe data ini dalah dengan menggunakan built-in function pada Python**"
   ]
  },
  {
   "cell_type": "code",
   "execution_count": 43,
   "id": "dc40f46c-70c5-4b95-be43-c4f25b4c2356",
   "metadata": {},
   "outputs": [
    {
     "name": "stdout",
     "output_type": "stream",
     "text": [
      "Nilai dari angka_int adalah: 20\n",
      "Nilai dari angka_int adalah: 20.0\n"
     ]
    }
   ],
   "source": [
    "# Membuat tipe data number integer\n",
    "angka_int = int(20)\n",
    "print(\"Nilai dari angka_int adalah: {}\".format(angka_int))\n",
    "\n",
    "# Membuat tipe data number float\n",
    "angka_float = float(20)\n",
    "print(\"Nilai dari angka_int adalah: {}\".format(angka_float))"
   ]
  },
  {
   "cell_type": "markdown",
   "id": "76aa7237-8b55-4499-80e7-53d4ef1339b9",
   "metadata": {},
   "source": [
    "## 2. String"
   ]
  },
  {
   "cell_type": "code",
   "execution_count": 48,
   "id": "fbb40363-4eb6-4973-81a9-ff4420d38a1e",
   "metadata": {},
   "outputs": [
    {
     "name": "stdout",
     "output_type": "stream",
     "text": [
      "Jenis bunga1 adalah Bunga Mawar dan bunga2 adalah Bunga Melati\n",
      "Tipe data adalah <class 'str'>\n"
     ]
    }
   ],
   "source": [
    "# Tipe data string\n",
    "jenis_bunga1 = 'Bunga Mawar'\n",
    "jenis_bunga2 = 'Bunga Melati'\n",
    "\n",
    "# Print hasil pada console\n",
    "print(\"Jenis bunga1 adalah {bunga1} dan bunga2 adalah {bunga2}\".format(bunga1=jenis_bunga1, bunga2=jenis_bunga2))\n",
    "\n",
    "# Tipe data string (menggunakan \" \")\n",
    "jenis_bunga3 = \"Bunga Mawar's\" \n",
    "jenis_bunga4 = \"Bunga Melati's\"\n",
    "\n",
    "# Check jenis tipe data menggunakan type\n",
    "print(\"Tipe data adalah {}\".format(type(jenis_bunga4)))"
   ]
  },
  {
   "cell_type": "markdown",
   "id": "3aee6978-8c70-4229-b096-e25278eb8ac2",
   "metadata": {},
   "source": [
    "**Cara lain untuk membuat string adalah dengan menggunakan built-in function string. Penggunakan str() biasanya digunakan jika kita ingin melakukan casting (perubahan tipe data) dari angka menjadi string.**"
   ]
  },
  {
   "cell_type": "code",
   "execution_count": 51,
   "id": "480163c2-75f8-4253-b992-45480f3bd5ad",
   "metadata": {},
   "outputs": [],
   "source": [
    "# Membuat tipe data dengan menggunakan built-in function string str()\n",
    "hewan_peliharaan = str('Dogy')\n",
    "\n",
    "# Casting tipe data\n",
    "my_number = 20 # Akan disimpan sebagai number integer\n",
    "\n",
    "# Casting tipe data integer menjadi string\n",
    "my_number_str = str(20) # Akan disimpan menjadi string"
   ]
  },
  {
   "cell_type": "markdown",
   "id": "8f19cd0b-c4ce-4382-9a5b-d9443bbc287d",
   "metadata": {},
   "source": [
    "## 3. Tuple"
   ]
  },
  {
   "cell_type": "code",
   "execution_count": 56,
   "id": "5f8fa642-406f-4586-b2b1-8f7191ad4467",
   "metadata": {},
   "outputs": [
    {
     "name": "stdout",
     "output_type": "stream",
     "text": [
      "Daftar negara ('Indonesia', 'Amerika', 'Jerman', 'Saudi Arabia', 'Denmark')\n",
      "Mix items ('Mac', 'Tablet', 20, 'Merah', 'Bunga Mawar')\n"
     ]
    }
   ],
   "source": [
    "# Tipe data tuple yang berisi string\n",
    "countries = ('Indonesia', \"Amerika\", \"Jerman\", \"Saudi Arabia\", \"Denmark\")\n",
    "print(\"Daftar negara {}\".format(countries))\n",
    "\n",
    "\n",
    "# Tipe data tuple yang berisi string dan number\n",
    "mix_items = ('Mac', 'Tablet', 20, 'Merah', 'Bunga Mawar')\n",
    "print(\"Mix items {}\".format(mix_items))"
   ]
  },
  {
   "cell_type": "code",
   "execution_count": 61,
   "id": "f31d0ca2-9a89-42e5-8401-d16aa4d2be94",
   "metadata": {},
   "outputs": [
    {
     "name": "stdout",
     "output_type": "stream",
     "text": [
      "Jumlah data pada daftar negara adalah 5 item\n",
      "Index 0 pada countries berisi Indonesia\n",
      "Index 3 pada countries berisi Saudi Arabia\n"
     ]
    }
   ],
   "source": [
    "# Tipe data tuple yang berisi string\n",
    "countries = ('Indonesia', \"Amerika\", \"Jerman\", \"Saudi Arabia\", \"Denmark\")\n",
    "\n",
    "# Mengetahui jumlah elemen pada countries\n",
    "countries_length = len(countries)\n",
    "print(\"Jumlah data pada daftar negara adalah {} item\".format(countries_length))\n",
    "\n",
    "# Mengkases tiap-tiap elemen pada countries\n",
    "# Mengakses Indonesia pada index 0\n",
    "print(\"Index 0 pada countries berisi {}\".format(countries[0]))\n",
    "\n",
    "# Mengakses Saudi Arabia \n",
    "print(\"Index 3 pada countries berisi {}\".format(countries[3]))"
   ]
  },
  {
   "cell_type": "markdown",
   "id": "6923ceec-8e5c-4bf7-821d-777f195103bd",
   "metadata": {},
   "source": [
    "**Cara lain untuk membuat tuple adalah dengan menggunakan built-in function tuple. Penggunakan tuple().**"
   ]
  },
  {
   "cell_type": "code",
   "execution_count": 62,
   "id": "f147e96e-9c4d-47e5-899d-fec1bbc59892",
   "metadata": {},
   "outputs": [
    {
     "name": "stdout",
     "output_type": "stream",
     "text": [
      "('I', 'n', 'd', 'o', 'n', 'e', 's', 'i', 'a')\n"
     ]
    }
   ],
   "source": [
    "# Membuat tuple dengan built-in function tuple()\n",
    "my_country = tuple('Indonesia')\n",
    "print(my_country)"
   ]
  },
  {
   "cell_type": "markdown",
   "id": "e88c3030-7193-4478-8bf4-7cb373419669",
   "metadata": {},
   "source": [
    "## 4. List"
   ]
  },
  {
   "cell_type": "code",
   "execution_count": 92,
   "id": "b3081875-2fbd-49db-b2e7-21a687755614",
   "metadata": {
    "tags": []
   },
   "outputs": [
    {
     "name": "stdout",
     "output_type": "stream",
     "text": [
      "Jumlah data pada daftar negara adalah 4 item\n",
      "Index 0 pada countries_list berisi ['Indonesia', 'Amerika', 'Jerman', 'Belanda']\n",
      "Countries list setela di-pop berisi ['Indonesia', 'Amerika', 'Jerman']\n",
      "Countries list setelah di append berisi ['Indonesia', 'Amerika', 'Jerman', ('Australia', 'Rusia')]\n"
     ]
    }
   ],
   "source": [
    "# Tipe data list\n",
    "countries_list = ['Indonesia', 'Amerika', 'Jerman', 'Belanda']\n",
    "\n",
    "# Mengetahui jumlah elemen pada countries_lsit\n",
    "countries_list_length = len(countries_list)\n",
    "print(\"Jumlah data pada daftar negara adalah {} item\".format(countries_list_length))\n",
    "\n",
    "# Mengkases tiap-tiap elemen pada countries\n",
    "# Mengakses Indonesia\n",
    "countries_list[0]\n",
    "print(\"Index 0 pada countries_list berisi {}\".format(countries_list))\n",
    "\n",
    "# Membuang satu elemen yaitu kata Belanda\n",
    "countries_list.pop()\n",
    "print(\"Countries list setela di-pop berisi {}\".format(countries_list))\n",
    "\n",
    "# Menambahkan satu elemen data baru pada countries_list\n",
    "countries_list.append(('Australia', 'Rusia'))\n",
    "print(\"Countries list setelah di append berisi {}\".format(countries_list))"
   ]
  },
  {
   "cell_type": "markdown",
   "id": "14e0be48-78d0-43d5-b2d7-61cba84b788e",
   "metadata": {},
   "source": [
    "**Cara lain untuk membuat list adalah dengan menggunakan built-in function list. Penggunakan list().**"
   ]
  },
  {
   "cell_type": "code",
   "execution_count": 93,
   "id": "c59b9eba-a0ea-48e4-a674-923d0b3125a7",
   "metadata": {},
   "outputs": [
    {
     "name": "stdout",
     "output_type": "stream",
     "text": [
      "('I', 'n', 'd', 'o', 'n', 'e', 's', 'i', 'a')\n"
     ]
    }
   ],
   "source": [
    "# Membuat tuple dengan built-in function tuple()\n",
    "my_country_list = list('Indonesia')\n",
    "print(my_country)"
   ]
  },
  {
   "cell_type": "markdown",
   "id": "2649ad1a-7be7-4e74-a841-e35b462e92bf",
   "metadata": {},
   "source": [
    "<h2> 5. Dictionary"
   ]
  },
  {
   "cell_type": "code",
   "execution_count": 101,
   "id": "281fb70c-64d3-434f-afdc-9b47adc82da7",
   "metadata": {},
   "outputs": [
    {
     "name": "stdout",
     "output_type": "stream",
     "text": [
      "My bio dict berisi {'nama': 'myw', 'usia': 20, 'hobby': 'ngoding', 'alamat_email': 'donjoe@gmail.com'}\n",
      "Jumlah elemen pada my_bio_dict adalah 4\n",
      "myw\n",
      "myw\n",
      "20\n",
      "20\n",
      "My bio dict baru berisi {'nama': 'myw', 'usia': 20, 'hobby': 'ngoding', 'alamat_email': 'donjoe@gmail.com', 'Pekerjaan': 'Analyst'}\n"
     ]
    }
   ],
   "source": [
    "# Tipe data dictionary\n",
    "my_bio_dict = {'nama':'myw', 'usia':20, 'hobby':'ngoding', 'alamat_email':'donjoe@gmail.com'}\n",
    "print(\"My bio dict berisi {}\".format(my_bio_dict))\n",
    "\n",
    "# Mengetahui jumlah elemen pada my_bio_dict\n",
    "my_bio_dict_len = len(my_bio_dict)\n",
    "print(\"Jumlah elemen pada my_bio_dict adalah {}\".format(my_bio_dict_len))\n",
    "\n",
    "# Mengkases tiap-tiap elemen pada countries\n",
    "# Mengakses nama cara 1\n",
    "nama = my_bio_dict['nama']\n",
    "print(nama)\n",
    "\n",
    "# Mengakses nama cara 2 dengan menggunakan method get\n",
    "nama = my_bio_dict.get('nama')\n",
    "print(nama)\n",
    "\n",
    "# Mengakses usia cara 1\n",
    "usia = my_bio_dict['usia']\n",
    "print(usia)\n",
    "\n",
    "# Mengakses nama cara 2 dengan menggunakan method get\n",
    "usia = my_bio_dict.get('usia')\n",
    "print(usia)\n",
    "\n",
    "# Menambahkan satu elemen data baru pada my_bio_dict\n",
    "# Menambahkan elemen baru dengan kata kunci/key baru yaitu pekerjaan dengan nilai Analyst\n",
    "my_bio_dict['Pekerjaan'] = 'Analyst'\n",
    "print(\"My bio dict baru berisi {}\".format(my_bio_dict))"
   ]
  }
 ],
 "metadata": {
  "kernelspec": {
   "display_name": "Python 3",
   "language": "python",
   "name": "python3"
  },
  "language_info": {
   "codemirror_mode": {
    "name": "ipython",
    "version": 3
   },
   "file_extension": ".py",
   "mimetype": "text/x-python",
   "name": "python",
   "nbconvert_exporter": "python",
   "pygments_lexer": "ipython3",
   "version": "3.9.7"
  },
  "toc-autonumbering": false,
  "toc-showcode": false
 },
 "nbformat": 4,
 "nbformat_minor": 5
}
